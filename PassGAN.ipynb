{
 "cells": [
  {
   "cell_type": "markdown",
   "metadata": {},
   "source": [
    "# PassGAN"
   ]
  },
  {
   "cell_type": "code",
   "execution_count": 1,
   "metadata": {},
   "outputs": [
    {
     "name": "stdout",
     "output_type": "stream",
     "text": [
      "Tesla T4 | True\n"
     ]
    }
   ],
   "source": [
    "import torch\n",
    "import torch.nn as nn\n",
    "import torch.nn.functional as F\n",
    "import torch.optim as optim\n",
    "import torch.autograd as autograd\n",
    "import numpy as np\n",
    "import pandas as pd\n",
    "import datetime\n",
    "import pickle\n",
    "import glob\n",
    "\n",
    "from collections import OrderedDict\n",
    "\n",
    "from models import Generator, write_predictions, predict_many, predict_one\n",
    "from data import load_dataset, dump_txt_to_pickle, load_data_from_pickle, dataloader, translate\n",
    "from training import training_loop\n",
    "\n",
    "device = \"cuda\" if torch.cuda.is_available() else \"cpu\"\n",
    "print(torch.cuda.get_device_name(), \"|\", torch.cuda.is_available())"
   ]
  },
  {
   "cell_type": "markdown",
   "metadata": {},
   "source": [
    "# Loading Data"
   ]
  },
  {
   "cell_type": "code",
   "execution_count": 2,
   "metadata": {},
   "outputs": [
    {
     "name": "stdout",
     "output_type": "stream",
     "text": [
      "0:00:23.469253\n"
     ]
    }
   ],
   "source": [
    "path = \"Data/dubsmash_processed.txt\"\n",
    "dataset_name = \"dubsmash\"\n",
    "\n",
    "# filtered_lines, charmap, inv_charmap = load_dataset(path)\n",
    "# dump_txt_to_pickle(path, dataset_name, test_size=0.1)\n",
    "\n",
    "t = datetime.datetime.now()\n",
    "train_lines, test_lines, charmap, inv_charmap = load_data_from_pickle(dataset_name, test_data=True)\n",
    "print(datetime.datetime.now() - t)"
   ]
  },
  {
   "cell_type": "code",
   "execution_count": 3,
   "metadata": {},
   "outputs": [
    {
     "name": "stdout",
     "output_type": "stream",
     "text": [
      "\n",
      "Training Size:\t19458235\n",
      "Testing Size:\t1024117\n"
     ]
    }
   ],
   "source": [
    "print(f\"\\nTraining Size:\\t{len(train_lines):>7}\\nTesting Size:\\t{len(test_lines):>7}\")"
   ]
  },
  {
   "cell_type": "code",
   "execution_count": 4,
   "metadata": {},
   "outputs": [
    {
     "data": {
      "text/plain": [
       "['12345|||||',\n",
       " 'momdad1727',\n",
       " '123456789|',\n",
       " 'cutiekay89',\n",
       " 'haley|||||',\n",
       " '123abc||||',\n",
       " 'christina|',\n",
       " 'nina123|||']"
      ]
     },
     "execution_count": 4,
     "metadata": {},
     "output_type": "execute_result"
    }
   ],
   "source": [
    "train = dataloader(train_lines, 8)\n",
    "translate(next(train), inv_charmap)"
   ]
  },
  {
   "cell_type": "markdown",
   "metadata": {},
   "source": [
    "# Training loop\n",
    "\n",
    "Function parameters"
   ]
  },
  {
   "cell_type": "code",
   "execution_count": 5,
   "metadata": {},
   "outputs": [
    {
     "name": "stdout",
     "output_type": "stream",
     "text": [
      "Model loaded, starting at 2000...\n",
      "iterations 2000\n",
      "\tFake: ['113406||||', 'dMar30||||', 'parenp1133', 'piMamk11||', 'Pareverle|', 'poskas||||', 'beMamag|||', '12345|||||', 'drlowis|||', 'MeeRas8as|']\n",
      "\tReal: ['102030||||', 'ivona.a|||', '232323||||', 'Passw0rd1|', 'nextbest15', 'BOOMPANES!', '696969||||', '12345|||||', 'carlos||||', 'grace|||||']\n",
      "iterations 3000\n",
      "\tFake: ['Fa84an8450', 'cupetvr123', '12345|||||', 'seamed1|||', 'doenen||||', 'madseme123', 'fneenis|||', 'meeo2840||', 'cosros8800', 'fehi123|||']\n",
      "\tReal: ['panthers||', 'mango50|||', 'jcs102888|', '12346|||||', 'Qwerty123|', 'Lenkasm84|', 'tahari00||', 'speedpr23|', '123456789|', '456852||||']\n"
     ]
    }
   ],
   "source": [
    "lines = train_lines\n",
    "dataloader = dataloader #function from data.py\n",
    "\n",
    "args = {}\n",
    "args['lambda_'] = 10\n",
    "args['n_critic_iters_per_generator_iter'] = 10\n",
    "args['batch_size'] = 128\n",
    "args['lr'] = 1e-4\n",
    "args['adam_beta1'] = 0.5\n",
    "args['adam_beta2'] = 0.9\n",
    "args['iterations'] = 3000\n",
    "args['continue_training'] = True\n",
    "args['netG_checkpoint'] = \"Checkpoints/netG-200002:00:07AM_12-04-20\"\n",
    "args['netD_checkpoint'] = \"Checkpoints/netD-200002:00:07AM_12-04-20\"\n",
    "\n",
    "training_loop(lines, charmap, inv_charmap, dataloader, args)"
   ]
  },
  {
   "cell_type": "markdown",
   "metadata": {},
   "source": [
    "# Prediction"
   ]
  },
  {
   "cell_type": "code",
   "execution_count": 6,
   "metadata": {},
   "outputs": [
    {
     "name": "stdout",
     "output_type": "stream",
     "text": [
      "0:00:05.600600\n"
     ]
    }
   ],
   "source": [
    "dataset_name = \"dubsmash\"\n",
    "t = datetime.datetime.now()\n",
    "test_data, charmap, inv_charmap = load_data_from_pickle(dataset_name, train_data=False, test_data=True)\n",
    "print(datetime.datetime.now() - t)"
   ]
  },
  {
   "cell_type": "code",
   "execution_count": 7,
   "metadata": {},
   "outputs": [
    {
     "data": {
      "text/plain": [
       "Generator(\n",
       "  (lin): Linear(in_features=128, out_features=1280, bias=True)\n",
       "  (block1): ResidualBlock(\n",
       "    (conv1): Conv1d(128, 128, kernel_size=(3,), stride=(1,), padding=(1,))\n",
       "    (conv2): Conv1d(128, 128, kernel_size=(3,), stride=(1,), padding=(1,))\n",
       "  )\n",
       "  (block2): ResidualBlock(\n",
       "    (conv1): Conv1d(128, 128, kernel_size=(3,), stride=(1,), padding=(1,))\n",
       "    (conv2): Conv1d(128, 128, kernel_size=(3,), stride=(1,), padding=(1,))\n",
       "  )\n",
       "  (block3): ResidualBlock(\n",
       "    (conv1): Conv1d(128, 128, kernel_size=(3,), stride=(1,), padding=(1,))\n",
       "    (conv2): Conv1d(128, 128, kernel_size=(3,), stride=(1,), padding=(1,))\n",
       "  )\n",
       "  (block4): ResidualBlock(\n",
       "    (conv1): Conv1d(128, 128, kernel_size=(3,), stride=(1,), padding=(1,))\n",
       "    (conv2): Conv1d(128, 128, kernel_size=(3,), stride=(1,), padding=(1,))\n",
       "  )\n",
       "  (block5): ResidualBlock(\n",
       "    (conv1): Conv1d(128, 128, kernel_size=(3,), stride=(1,), padding=(1,))\n",
       "    (conv2): Conv1d(128, 128, kernel_size=(3,), stride=(1,), padding=(1,))\n",
       "  )\n",
       "  (conv): Conv1d(128, 95, kernel_size=(3,), stride=(1,), padding=(1,))\n",
       ")"
      ]
     },
     "execution_count": 7,
     "metadata": {},
     "output_type": "execute_result"
    }
   ],
   "source": [
    "netG = Generator(charmap).to(device)\n",
    "netG.load_state_dict(torch.load(\"Checkpoints/netG-15800002:26:12PM_12-05-20\", map_location=torch.device(device))) # latest model\n",
    "netG.eval()"
   ]
  },
  {
   "cell_type": "code",
   "execution_count": 8,
   "metadata": {},
   "outputs": [
    {
     "name": "stdout",
     "output_type": "stream",
     "text": [
      "Generating 100000 passwords...\n",
      "File 1\n",
      "\tGenerating output...\n",
      "\tTranslating output...\n",
      "\tWriting output...\n",
      "\t0:00:01.004930\n",
      "\tTotal: 0:00:01.006752\n"
     ]
    }
   ],
   "source": [
    "batch_size = 100000\n",
    "batches_per_file = 1\n",
    "num_files = 1\n",
    "\n",
    "write_predictions(netG, inv_charmap, batches_per_file, num_files, batch_size)"
   ]
  },
  {
   "cell_type": "markdown",
   "metadata": {},
   "source": [
    "How Predictions Work\n",
    "\n",
    "Samples the latent space\n",
    "```python\n",
    "latent_noise = torch.randn(batch_size, 128).to(device=device)\n",
    "```\n",
    "\n",
    "Produces vectors of probabilities for each class for each character\n",
    "```python\n",
    "pred = netG(latent_noise)\n",
    "```\n",
    "\n",
    "Find the character with the highest probability for each character and translate numeric to character\n",
    "```python\n",
    "translated_pred = translate(pred.argmax(dim=2), inv_charmap)\n",
    "```"
   ]
  },
  {
   "cell_type": "code",
   "execution_count": 9,
   "metadata": {},
   "outputs": [
    {
     "data": {
      "text/plain": [
       "['mohom514||', 'aliria||||', 'hunna|||||', '55575|||||']"
      ]
     },
     "execution_count": 9,
     "metadata": {},
     "output_type": "execute_result"
    }
   ],
   "source": [
    "batch_size = 4\n",
    "latent_noise = torch.randn(batch_size, 128).to(device=device)\n",
    "pred = netG(latent_noise)\n",
    "translated_pred = translate(pred.argmax(dim=2), inv_charmap)\n",
    "translated_pred"
   ]
  },
  {
   "cell_type": "markdown",
   "metadata": {},
   "source": [
    "# Predictions Across Checkpoints"
   ]
  },
  {
   "cell_type": "code",
   "execution_count": 10,
   "metadata": {},
   "outputs": [],
   "source": [
    "checkpoints_to_predict = OrderedDict()\n",
    "checkpoints_to_predict['1'] = \"Checkpoints/netG-101:32:11AM_12-04-20\"\n",
    "checkpoints_to_predict['1000'] = 'Checkpoints/netG-100001:46:05AM_12-04-20'\n",
    "checkpoints_to_predict['5000'] = \"Checkpoints/netG-500002:41:42AM_12-04-20\"\n",
    "checkpoints_to_predict['10000'] = \"Checkpoints/netG-1000003:50:37AM_12-04-20\"\n",
    "checkpoints_to_predict['25000'] = \"Checkpoints/netG-2500007:19:11AM_12-04-20\"\n",
    "checkpoints_to_predict['75000'] = \"Checkpoints/netG-7500006:46:08PM_12-04-20\"\n",
    "checkpoints_to_predict['158000'] = \"Checkpoints/netG-15800002:26:12PM_12-05-20\""
   ]
  },
  {
   "cell_type": "code",
   "execution_count": 36,
   "metadata": {},
   "outputs": [
    {
     "name": "stdout",
     "output_type": "stream",
     "text": [
      "Checkpoint iterations      1: \t ['$?5lKqnN#<', '_,|V+Vzo0$', 'Ej[22_Nw78', '-D{7unkQkI>O', '7,[#Mz/M_Q']\n",
      "Checkpoint iterations   1000: \t ['aracarie16', 'bines2||||', '123456te6|', 'kiinel||||', 'hote5|||||']\n",
      "Checkpoint iterations   5000: \t ['borinyon||', '12345|||||', 'soinh1||||', 'mam1231|||', 'seyis|1|||']\n",
      "Checkpoint iterations  10000: \t ['16128yn6||', 'Huweme||||', '123456||||', 'Perweblo|.', 'snbslo||||']\n",
      "Checkpoint iterations  25000: \t ['pugharda||', 'almarty8ip', '1234567893', 'minhe01|||', 'piprica1||']\n",
      "Checkpoint iterations  75000: \t ['aneyha||||', 'vergMet55|', 'tadona||||', '123456789|', 'teottme|||']\n",
      "Checkpoint iterations 158000: \t ['2121912|||', '12345|||||', '12345678||', 'kanda|||||', '123756789|']\n"
     ]
    }
   ],
   "source": [
    "for key, value in checkpoints_to_predict.items():\n",
    "    netG = Generator(charmap).to(device)\n",
    "    netG.load_state_dict(torch.load(value, map_location=torch.device(device)))\n",
    "    print(f\"Checkpoint iterations {key:>6}: \\t {predict_one(netG, inv_charmap, 5)}\")"
   ]
  },
  {
   "cell_type": "markdown",
   "metadata": {},
   "source": [
    "# Experimental Results"
   ]
  },
  {
   "cell_type": "code",
   "execution_count": 12,
   "metadata": {},
   "outputs": [
    {
     "name": "stdout",
     "output_type": "stream",
     "text": [
      "0:07:14.361398\n"
     ]
    }
   ],
   "source": [
    "pred_paths = glob.glob(\"Predictions/predfile_*_10000000.txt\")\n",
    "t = datetime.datetime.now()\n",
    "list_of_dfs = [pd.read_table(path, names=[\"Password\"]) for path in pred_paths]\n",
    "predictions = pd.concat(list_of_dfs, axis=0, ignore_index=True)\n",
    "print(datetime.datetime.now() - t)\n",
    "\n",
    "orig_test_data = pd.Series(translate(test_data, inv_charmap))\n",
    "test_data = orig_test_data.drop_duplicates()"
   ]
  },
  {
   "cell_type": "code",
   "execution_count": 13,
   "metadata": {},
   "outputs": [
    {
     "data": {
      "text/html": [
       "<div>\n",
       "<style scoped>\n",
       "    .dataframe tbody tr th:only-of-type {\n",
       "        vertical-align: middle;\n",
       "    }\n",
       "\n",
       "    .dataframe tbody tr th {\n",
       "        vertical-align: top;\n",
       "    }\n",
       "\n",
       "    .dataframe thead th {\n",
       "        text-align: right;\n",
       "    }\n",
       "</style>\n",
       "<table border=\"1\" class=\"dataframe\">\n",
       "  <thead>\n",
       "    <tr style=\"text-align: right;\">\n",
       "      <th></th>\n",
       "      <th>Password</th>\n",
       "    </tr>\n",
       "  </thead>\n",
       "  <tbody>\n",
       "    <tr>\n",
       "      <th>0</th>\n",
       "      <td>obeve797||</td>\n",
       "    </tr>\n",
       "    <tr>\n",
       "      <th>1</th>\n",
       "      <td>rinline1||</td>\n",
       "    </tr>\n",
       "    <tr>\n",
       "      <th>2</th>\n",
       "      <td>woley14|||</td>\n",
       "    </tr>\n",
       "    <tr>\n",
       "      <th>3</th>\n",
       "      <td>12345|||||</td>\n",
       "    </tr>\n",
       "    <tr>\n",
       "      <th>4</th>\n",
       "      <td>12345|||||</td>\n",
       "    </tr>\n",
       "    <tr>\n",
       "      <th>...</th>\n",
       "      <td>...</td>\n",
       "    </tr>\n",
       "    <tr>\n",
       "      <th>999999995</th>\n",
       "      <td>buepyr||||</td>\n",
       "    </tr>\n",
       "    <tr>\n",
       "      <th>999999996</th>\n",
       "      <td>almbers|||</td>\n",
       "    </tr>\n",
       "    <tr>\n",
       "      <th>999999997</th>\n",
       "      <td>12345|||||</td>\n",
       "    </tr>\n",
       "    <tr>\n",
       "      <th>999999998</th>\n",
       "      <td>041010||||</td>\n",
       "    </tr>\n",
       "    <tr>\n",
       "      <th>999999999</th>\n",
       "      <td>12345|||||</td>\n",
       "    </tr>\n",
       "  </tbody>\n",
       "</table>\n",
       "<p>1000000000 rows × 1 columns</p>\n",
       "</div>"
      ],
      "text/plain": [
       "             Password\n",
       "0          obeve797||\n",
       "1          rinline1||\n",
       "2          woley14|||\n",
       "3          12345|||||\n",
       "4          12345|||||\n",
       "...               ...\n",
       "999999995  buepyr||||\n",
       "999999996  almbers|||\n",
       "999999997  12345|||||\n",
       "999999998  041010||||\n",
       "999999999  12345|||||\n",
       "\n",
       "[1000000000 rows x 1 columns]"
      ]
     },
     "execution_count": 13,
     "metadata": {},
     "output_type": "execute_result"
    }
   ],
   "source": [
    "predictions"
   ]
  },
  {
   "cell_type": "code",
   "execution_count": 14,
   "metadata": {},
   "outputs": [
    {
     "name": "stdout",
     "output_type": "stream",
     "text": [
      "0:09:40.631642\n"
     ]
    },
    {
     "data": {
      "text/plain": [
       "0            obeve797||\n",
       "1            rinline1||\n",
       "2            woley14|||\n",
       "3            12345|||||\n",
       "5            blar||||||\n",
       "                ...    \n",
       "999999955    tirian20||\n",
       "999999973    taywl2s14|\n",
       "999999975    makimuraty\n",
       "999999978    moobovass|\n",
       "999999983    marenebaR|\n",
       "Name: Password, Length: 163341589, dtype: object"
      ]
     },
     "execution_count": 14,
     "metadata": {},
     "output_type": "execute_result"
    }
   ],
   "source": [
    "t = datetime.datetime.now()\n",
    "unique_predictions = predictions['Password'].drop_duplicates()\n",
    "print(datetime.datetime.now() - t)\n",
    "unique_predictions"
   ]
  },
  {
   "cell_type": "code",
   "execution_count": 15,
   "metadata": {},
   "outputs": [
    {
     "data": {
      "text/plain": [
       "0          123456789|\n",
       "1          09090909||\n",
       "2          naveen||||\n",
       "3          jerry|||||\n",
       "4          jultomten|\n",
       "              ...    \n",
       "1024107    malakhai15\n",
       "1024108    alejo17|||\n",
       "1024111    91gosane||\n",
       "1024115    Lilybug5||\n",
       "1024116    drpepper22\n",
       "Length: 346442, dtype: object"
      ]
     },
     "execution_count": 15,
     "metadata": {},
     "output_type": "execute_result"
    }
   ],
   "source": [
    "test_data"
   ]
  },
  {
   "cell_type": "code",
   "execution_count": 16,
   "metadata": {},
   "outputs": [
    {
     "name": "stdout",
     "output_type": "stream",
     "text": [
      "0:00:54.602040\n"
     ]
    }
   ],
   "source": [
    "t = datetime.datetime.now()\n",
    "preds_mask = unique_predictions.isin(test_data)\n",
    "matched_preds = unique_predictions[preds_mask]\n",
    "num_unique_generated = len(unique_predictions)\n",
    "unmatched_generated_pws = unique_predictions[~preds_mask].sample(n=100)\n",
    "test_matched_mask = orig_test_data.isin(matched_preds)\n",
    "proportion_in_unique_predictions_that_matched = preds_mask.mean()\n",
    "proportion_of_test_set_that_matched = orig_test_data.isin(matched_preds).mean()\n",
    "proportion_of_deduped_test_set_that_matched = test_data.isin(matched_preds).mean()\n",
    "proportion_that_was_uniquely_generated = num_unique_generated/len(predictions)\n",
    "print(datetime.datetime.now() - t)"
   ]
  },
  {
   "cell_type": "markdown",
   "metadata": {},
   "source": [
    "**Sample of Matched Passwords**"
   ]
  },
  {
   "cell_type": "code",
   "execution_count": 37,
   "metadata": {},
   "outputs": [
    {
     "data": {
      "text/plain": [
       "15563444        mollyy\n",
       "1168622       angles99\n",
       "193304551    sahara123\n",
       "1821719       m1234567\n",
       "211847         melinda\n",
       "170792819     amera123\n",
       "211771734       jersey\n",
       "11814803        101105\n",
       "472676459    darla2013\n",
       "6666740       28082003\n",
       "Name: Password, dtype: object"
      ]
     },
     "execution_count": 37,
     "metadata": {},
     "output_type": "execute_result"
    }
   ],
   "source": [
    "matched_preds.str.replace(\"|\", \"\").sample(n=10)"
   ]
  },
  {
   "cell_type": "markdown",
   "metadata": {},
   "source": [
    "**Proportion of unique predictions generated that matched with a password in the test set**"
   ]
  },
  {
   "cell_type": "code",
   "execution_count": 18,
   "metadata": {},
   "outputs": [
    {
     "data": {
      "text/plain": [
       "0.00020288770424536521"
      ]
     },
     "execution_count": 18,
     "metadata": {},
     "output_type": "execute_result"
    }
   ],
   "source": [
    "proportion_in_unique_predictions_that_matched"
   ]
  },
  {
   "cell_type": "markdown",
   "metadata": {},
   "source": [
    "**Proportion of test set whose passwords were found**"
   ]
  },
  {
   "cell_type": "code",
   "execution_count": 19,
   "metadata": {},
   "outputs": [
    {
     "data": {
      "text/plain": [
       "0.47678341439503497"
      ]
     },
     "execution_count": 19,
     "metadata": {},
     "output_type": "execute_result"
    }
   ],
   "source": [
    "proportion_of_test_set_that_matched"
   ]
  },
  {
   "cell_type": "markdown",
   "metadata": {},
   "source": [
    "**Proportion of deduped test set whose passwords were found**"
   ]
  },
  {
   "cell_type": "code",
   "execution_count": 20,
   "metadata": {},
   "outputs": [
    {
     "data": {
      "text/plain": [
       "0.09565814768417225"
      ]
     },
     "execution_count": 20,
     "metadata": {},
     "output_type": "execute_result"
    }
   ],
   "source": [
    "proportion_of_deduped_test_set_that_matched"
   ]
  },
  {
   "cell_type": "markdown",
   "metadata": {},
   "source": [
    "**Number of unique passwords that were generated**"
   ]
  },
  {
   "cell_type": "code",
   "execution_count": 21,
   "metadata": {},
   "outputs": [
    {
     "data": {
      "text/plain": [
       "163341589"
      ]
     },
     "execution_count": 21,
     "metadata": {},
     "output_type": "execute_result"
    }
   ],
   "source": [
    "num_unique_generated"
   ]
  },
  {
   "cell_type": "markdown",
   "metadata": {},
   "source": [
    "**Proportion of generated passwords that are unique**"
   ]
  },
  {
   "cell_type": "code",
   "execution_count": 22,
   "metadata": {},
   "outputs": [
    {
     "data": {
      "text/plain": [
       "0.163341589"
      ]
     },
     "execution_count": 22,
     "metadata": {},
     "output_type": "execute_result"
    }
   ],
   "source": [
    "proportion_that_was_uniquely_generated"
   ]
  },
  {
   "cell_type": "markdown",
   "metadata": {},
   "source": [
    "**Sample of unmatched generated passwords**"
   ]
  },
  {
   "cell_type": "code",
   "execution_count": 42,
   "metadata": {},
   "outputs": [
    {
     "data": {
      "text/plain": [
       "2321788      miay1333||\n",
       "269112706    to412515||\n",
       "450393001    Porthe608|\n",
       "156489414    Perkla98||\n",
       "315043617    Aohstriey|\n",
       "982030372    gabaebn50|\n",
       "950503444    cedeni14||\n",
       "203685236    17061311||\n",
       "28032982     oMkazkioty\n",
       "281175338    peypal01||\n",
       "Name: Password, dtype: object"
      ]
     },
     "execution_count": 42,
     "metadata": {},
     "output_type": "execute_result"
    }
   ],
   "source": [
    "unmatched_generated_pws.sample(n=10)"
   ]
  },
  {
   "cell_type": "markdown",
   "metadata": {},
   "source": [
    "**Sample of unmatched test set passwords**"
   ]
  },
  {
   "cell_type": "code",
   "execution_count": 24,
   "metadata": {},
   "outputs": [
    {
     "data": {
      "text/plain": [
       "162258    joey1021||\n",
       "6906      1607681|||\n",
       "375976    9946805264\n",
       "583564    purple01||\n",
       "799334    9oo7548154\n",
       "532069    titanic|||\n",
       "296639    killbill||\n",
       "579585    0987654321\n",
       "812319    07272001||\n",
       "927112    sherlock||\n",
       "dtype: object"
      ]
     },
     "execution_count": 24,
     "metadata": {},
     "output_type": "execute_result"
    }
   ],
   "source": [
    "orig_test_data[~test_matched_mask].sample(n=10)"
   ]
  }
 ],
 "metadata": {
  "kernelspec": {
   "display_name": "Python 3",
   "language": "python",
   "name": "python3"
  },
  "language_info": {
   "codemirror_mode": {
    "name": "ipython",
    "version": 3
   },
   "file_extension": ".py",
   "mimetype": "text/x-python",
   "name": "python",
   "nbconvert_exporter": "python",
   "pygments_lexer": "ipython3",
   "version": "3.8.5"
  }
 },
 "nbformat": 4,
 "nbformat_minor": 4
}
