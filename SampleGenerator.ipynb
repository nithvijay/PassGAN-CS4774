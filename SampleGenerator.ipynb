{
 "cells": [
  {
   "cell_type": "code",
   "execution_count": 7,
   "metadata": {},
   "outputs": [
    {
     "name": "stdout",
     "output_type": "stream",
     "text": [
      "Tesla T4 | True\n"
     ]
    }
   ],
   "source": [
    "import torch\n",
    "import torch.nn as nn\n",
    "import torch.nn.functional as F\n",
    "import torch.optim as optim\n",
    "import torch.autograd as autograd\n",
    "import numpy as np\n",
    "import datetime\n",
    "import pickle\n",
    "\n",
    "device = \"cuda\" if torch.cuda.is_available() else \"cpu\"\n",
    "print(torch.cuda.get_device_name(), \"|\", torch.cuda.is_available())"
   ]
  },
  {
   "cell_type": "code",
   "execution_count": 3,
   "metadata": {},
   "outputs": [],
   "source": [
    "charmap = pickle.load(open(\"Checkpoints/rockyou_charmap.pickle\", \"rb\"))\n",
    "inv_charmap = pickle.load(open(\"Checkpoints/rockyou_inv_charmap.pickle\", \"rb\"))"
   ]
  },
  {
   "cell_type": "markdown",
   "metadata": {},
   "source": [
    "# Model Definition"
   ]
  },
  {
   "cell_type": "code",
   "execution_count": 8,
   "metadata": {},
   "outputs": [],
   "source": [
    "class ResidualBlock(nn.Module):\n",
    "    \"\"\"\n",
    "    Residual blocks take BATCH_SIZE x CHANNELS x LENGTH -> BATCH_SIZE x CHANNELS x LENGTH\n",
    "    \"\"\"\n",
    "    def __init__(self, n_channels, kernel_size=3):\n",
    "        super(ResidualBlock, self).__init__()\n",
    "        self.conv1 = nn.Conv1d(in_channels=n_channels, out_channels=n_channels, kernel_size=kernel_size, padding=kernel_size // 2)\n",
    "        self.conv2 = nn.Conv1d(in_channels=n_channels, out_channels=n_channels, kernel_size=kernel_size, padding=kernel_size // 2)\n",
    "        \n",
    "    def forward(self, inputs):\n",
    "        x = F.relu(inputs)\n",
    "        x = self.conv1(x)\n",
    "        x = F.relu(x)\n",
    "        x = self.conv2(x)\n",
    "        outputs = inputs + x * 0.3\n",
    "        return outputs\n",
    "    \n",
    "class Generator(nn.Module):\n",
    "    def __init__(self, charmap, kernel_size=3):\n",
    "        super(Generator, self).__init__()\n",
    "        self.lin = nn.Linear(in_features=128, out_features=128*10) #Channels x Length\n",
    "        self.block1 = ResidualBlock(128)\n",
    "        self.block2 = ResidualBlock(128)\n",
    "        self.block3 = ResidualBlock(128)\n",
    "        self.block4 = ResidualBlock(128)\n",
    "        self.block5 = ResidualBlock(128)\n",
    "        self.conv = nn.Conv1d(in_channels=128, out_channels=len(charmap), kernel_size=kernel_size, padding=kernel_size//2)\n",
    "        \n",
    "    \n",
    "    def forward(self, inputs):\n",
    "        x = self.lin(inputs).reshape(-1, 128, 10) # for residual blocks\n",
    "        x = self.block1(x)\n",
    "        x = self.block2(x)\n",
    "        x = self.block3(x)\n",
    "        x = self.block4(x)\n",
    "        x = self.block5(x)\n",
    "        x = self.conv(x).permute(0, 2, 1)\n",
    "        x = F.softmax(x, dim=2)\n",
    "        return x\n",
    "    \n",
    "class Discriminator(nn.Module):\n",
    "    def __init__(self, charmap, kernel_size=3):\n",
    "        super(Discriminator, self).__init__()\n",
    "        self.length_charmap = len(charmap)\n",
    "        self.conv1 = nn.Conv1d(self.length_charmap, 128, kernel_size=kernel_size, padding=kernel_size // 2)\n",
    "        self.block1 = ResidualBlock(128)\n",
    "        self.block2 = ResidualBlock(128)\n",
    "        self.block3 = ResidualBlock(128)\n",
    "        self.block4 = ResidualBlock(128)\n",
    "        self.block5 = ResidualBlock(128)\n",
    "        self.flatten = nn.Flatten()\n",
    "        self.lin = nn.Linear(in_features=128 * 10, out_features=1)\n",
    "    \n",
    "    def forward(self, inputs): #one-hot is input to the discriminator\n",
    "#        x = F.one_hot(inputs, num_classes=self.length_charmap).permute(0, 2, 1).float()\n",
    "        x = inputs.permute(0, 2, 1)\n",
    "        x = self.conv1(x)\n",
    "        x = self.block1(x)\n",
    "        x = self.block2(x)\n",
    "        x = self.block3(x)\n",
    "        x = self.block4(x)\n",
    "        x = self.block5(x)\n",
    "        x = self.flatten(x)\n",
    "        outputs = self.lin(x)\n",
    "        return outputs"
   ]
  },
  {
   "cell_type": "code",
   "execution_count": 9,
   "metadata": {},
   "outputs": [
    {
     "data": {
      "text/plain": [
       "<All keys matched successfully>"
      ]
     },
     "execution_count": 9,
     "metadata": {},
     "output_type": "execute_result"
    }
   ],
   "source": [
    "netG = Generator(charmap).to(device)\n",
    "netG.load_state_dict(torch.load(\"/home/nvijayakumar/gcp-gan/Checkpoints/netG900005:35:43AM_12-03-20\"))"
   ]
  },
  {
   "cell_type": "code",
   "execution_count": 11,
   "metadata": {},
   "outputs": [],
   "source": [
    "def translate(passwords):\n",
    "    return [\"\".join([inv_charmap[c] for c in password]) for password in passwords]"
   ]
  },
  {
   "cell_type": "code",
   "execution_count": 13,
   "metadata": {},
   "outputs": [
    {
     "data": {
      "text/plain": [
       "['mamink603|',\n",
       " 'x1Кannan||',\n",
       " 's5it|ľ*|||',\n",
       " 'awisalynee',\n",
       " 'ayimt႑aๆ||',\n",
       " 'tistnitnee',\n",
       " '5508755591',\n",
       " 'Mๆ618405||',\n",
       " 'anistven||',\n",
       " '400988||||',\n",
       " 'nekkivene|',\n",
       " 'innane||||',\n",
       " 'wikI620|||',\n",
       " 'ti႑anbe1||',\n",
       " 'G801454|||',\n",
       " 'smonkove0|',\n",
       " 'thatba19||',\n",
       " 'inna16896|',\n",
       " 'taktovaT||',\n",
       " 'wisteგe;91',\n",
       " 'nitka16|||',\n",
       " 'natnikx|||',\n",
       " '58693T||||',\n",
       " 'snat႑mๆ|||',\n",
       " 'fd443i5it|',\n",
       " '#5053|||||',\n",
       " '1034nist||',\n",
       " 'inw2416865',\n",
       " 'jonisji53|',\n",
       " 'Y1222386||',\n",
       " 'wiknitج1||',\n",
       " '1044402098',\n",
       " 'slla39||||',\n",
       " 'nekmam||||',\n",
       " 'setea16|||',\n",
       " 'snatiey|||',\n",
       " 'cenkama099',\n",
       " 'wikent|1||',\n",
       " 'felonE1|||',\n",
       " 'te1084||||',\n",
       " '65inalyne|',\n",
       " '@50835||||',\n",
       " 'wiktnne|||',\n",
       " 'nantan1|||',\n",
       " 'katnisteta',\n",
       " 'jojHes5st|',\n",
       " 'eosane||||',\n",
       " '159995820|',\n",
       " 'nგateiydeI',\n",
       " 'mavane1КE|',\n",
       " 'wimeضaתΤ||',\n",
       " 'eanarlr02|',\n",
       " 'tnsniwic||',\n",
       " 'fnoe1280||',\n",
       " 'tisanrike|',\n",
       " 'nგestama||',\n",
       " 'tnrets803|',\n",
       " '55933|||||',\n",
       " 'niitke||||',\n",
       " 'wikane2|||',\n",
       " '6354405КE|',\n",
       " 'imaniiteto',\n",
       " 'nictast|||',\n",
       " '13405v1|||',\n",
       " 'wikeitanar',\n",
       " 'sodyrict||',\n",
       " '65531504||',\n",
       " 'ayisnik65|',\n",
       " 'shaava05Ta',\n",
       " 'feeona49||',\n",
       " 'nekjanisn|',\n",
       " '112159||||',\n",
       " 'tinanbas||',\n",
       " 'Lnaessna||',\n",
       " 'natbakt|||',\n",
       " '611195023a',\n",
       " '547458||||',\n",
       " 'G5jE40sdto',\n",
       " 'netnalk91|',\n",
       " '5336125|||',\n",
       " 'netsana309',\n",
       " 'isna5К.|||',\n",
       " 'rarbeI;.||',\n",
       " 'shaaka34||',\n",
       " 'joضasiaan|',\n",
       " 'ketinat|||',\n",
       " 'massna50||',\n",
       " 'Mת61054|||',\n",
       " 'chmana5|||',\n",
       " 'nbettac|||',\n",
       " 'shგn199|||',\n",
       " 'netf54||||',\n",
       " 'nrksii@|||',\n",
       " '#sjont||||',\n",
       " '@801159|||',\n",
       " 'sanyrke|||',\n",
       " 'ti႑moضt|||',\n",
       " 'cenjanta9|',\n",
       " 'trikelta1|',\n",
       " 'mastnnen0|']"
      ]
     },
     "execution_count": 13,
     "metadata": {},
     "output_type": "execute_result"
    }
   ],
   "source": [
    "latent_noise = torch.randn(100, 128).to(device=device)\n",
    "generated_passwords = netG(latent_noise).argmax(dim=2)\n",
    "translate(generated_passwords)"
   ]
  },
  {
   "cell_type": "code",
   "execution_count": null,
   "metadata": {},
   "outputs": [],
   "source": []
  }
 ],
 "metadata": {
  "kernelspec": {
   "display_name": "Python 3",
   "language": "python",
   "name": "python3"
  },
  "language_info": {
   "codemirror_mode": {
    "name": "ipython",
    "version": 3
   },
   "file_extension": ".py",
   "mimetype": "text/x-python",
   "name": "python",
   "nbconvert_exporter": "python",
   "pygments_lexer": "ipython3",
   "version": "3.8.5"
  }
 },
 "nbformat": 4,
 "nbformat_minor": 4
}
