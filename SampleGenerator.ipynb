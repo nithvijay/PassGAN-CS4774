{
 "cells": [
  {
   "cell_type": "code",
   "execution_count": null,
   "metadata": {},
   "outputs": [],
   "source": [
    "import torch\n",
    "import torch.nn as nn\n",
    "import torch.nn.functional as F\n",
    "import torch.optim as optim\n",
    "import torch.autograd as autograd\n",
    "import numpy as np\n",
    "import datetime\n",
    "import pickle\n",
    "\n",
    "from collections import OrderedDict\n",
    "\n",
    "from models import Generator, predict_many, predict_one\n",
    "from data import load_data_from_pickle, translate\n",
    "\n",
    "device = \"cuda\" if torch.cuda.is_available() else \"cpu\"\n",
    "print(torch.cuda.get_device_name(), \"|\", torch.cuda.is_available())"
   ]
  },
  {
   "cell_type": "markdown",
   "metadata": {},
   "source": [
    "# Data Loading"
   ]
  },
  {
   "cell_type": "code",
   "execution_count": null,
   "metadata": {},
   "outputs": [],
   "source": [
    "dataset_name = \"rockyou\"\n",
    "charmap, inv_charmap = load_data_from_pickle(dataset_name, train_data=False, test_data=False)"
   ]
  },
  {
   "cell_type": "markdown",
   "metadata": {},
   "source": [
    "# Predictions"
   ]
  },
  {
   "cell_type": "code",
   "execution_count": null,
   "metadata": {},
   "outputs": [],
   "source": [
    "checkpoints_to_predict = OrderedDict()\n",
    "checkpoints_to_predict['1'] = \"Checkpoints/netG103:55:21AM_12-03-20\"\n",
    "checkpoints_to_predict['1000'] = \"Checkpoints/netG103:55:21AM_12-03-20\"\n",
    "checkpoints_to_predict['3000'] = \"Checkpoints/netG103:55:21AM_12-03-20\"\n",
    "checkpoints_to_predict['5000'] = \"Checkpoints/netG103:55:21AM_12-03-20\"\n",
    "checkpoints_to_predict['7000'] = \"Checkpoints/netG103:55:21AM_12-03-20\"\n",
    "checkpoints_to_predict['9000'] = \"Checkpoints/netG103:55:21AM_12-03-20\""
   ]
  },
  {
   "cell_type": "code",
   "execution_count": null,
   "metadata": {},
   "outputs": [],
   "source": [
    "for key, value in checkpoints_to_predict.items():\n",
    "    netG = Generator(charmap).to(device)\n",
    "    netG.load_state_dict(torch.load(value))\n",
    "    print(predict_one(netG, 10))"
   ]
  },
  {
   "cell_type": "markdown",
   "metadata": {},
   "source": [
    "# Old"
   ]
  },
  {
   "cell_type": "code",
   "execution_count": null,
   "metadata": {},
   "outputs": [],
   "source": [
    "netG1 = Generator(charmap).to(device)\n",
    "netG1.load_state_dict(torch.load(\"/home/nvijayakumar/gcp-gan/Checkpoints/netG103:55:21AM_12-03-20\"))\n",
    "\n",
    "netG1000 = Generator(charmap).to(device)\n",
    "netG1000.load_state_dict(torch.load(\"/home/nvijayakumar/gcp-gan/Checkpoints/netG100004:06:51AM_12-03-20\"))\n",
    "\n",
    "netG3000 = Generator(charmap).to(device)\n",
    "netG3000.load_state_dict(torch.load(\"/home/nvijayakumar/gcp-gan/Checkpoints/netG300004:29:10AM_12-03-20\"))\n",
    "\n",
    "netG5000 = Generator(charmap).to(device)\n",
    "netG5000.load_state_dict(torch.load(\"/home/nvijayakumar/gcp-gan/Checkpoints/netG500004:51:18AM_12-03-20\"))\n",
    "\n",
    "netG7000 = Generator(charmap).to(device)\n",
    "netG7000.load_state_dict(torch.load(\"/home/nvijayakumar/gcp-gan/Checkpoints/netG700005:13:29AM_12-03-20\"))\n",
    "\n",
    "netG9000 = Generator(charmap).to(device)\n",
    "netG9000.load_state_dict(torch.load(\"/home/nvijayakumar/gcp-gan/Checkpoints/netG900005:35:43AM_12-03-20\"))"
   ]
  },
  {
   "cell_type": "code",
   "execution_count": null,
   "metadata": {},
   "outputs": [],
   "source": [
    "preds = predict_many([netG1, netG1000, netG3000, netG5000, netG7000, netG9000])\n",
    "iters = [\"1\", \"1000\", \"3000\", \"5000\", \"7000\", \"9000\"]\n",
    "for i, pred in zip(iters, preds):\n",
    "    print(f\"{i} iterations: {pred}\")"
   ]
  },
  {
   "cell_type": "code",
   "execution_count": null,
   "metadata": {},
   "outputs": [],
   "source": [
    "predict_one(netG1000, 100)"
   ]
  }
 ],
 "metadata": {
  "kernelspec": {
   "display_name": "Python 3",
   "language": "python",
   "name": "python3"
  },
  "language_info": {
   "codemirror_mode": {
    "name": "ipython",
    "version": 3
   },
   "file_extension": ".py",
   "mimetype": "text/x-python",
   "name": "python",
   "nbconvert_exporter": "python",
   "pygments_lexer": "ipython3",
   "version": "3.8.5"
  }
 },
 "nbformat": 4,
 "nbformat_minor": 4
}
